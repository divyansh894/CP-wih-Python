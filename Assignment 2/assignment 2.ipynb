{
 "cells": [
  {
   "cell_type": "markdown",
   "metadata": {},
   "source": [
    "## TASK 2\n",
    "## Divyansh Singh Sengar\n",
    "## Assignment 2"
   ]
  },
  {
   "cell_type": "markdown",
   "metadata": {},
   "source": [
    "## 1"
   ]
  },
  {
   "cell_type": "code",
   "execution_count": 6,
   "metadata": {},
   "outputs": [
    {
     "name": "stdout",
     "output_type": "stream",
     "text": [
      "Divyansh\n"
     ]
    }
   ],
   "source": [
    "get_first_word = lambda string : string.split()[0]\n",
    "print(get_first_word(\"Divyansh Singh Sengar\"))  "
   ]
  },
  {
   "cell_type": "code",
   "execution_count": 9,
   "metadata": {},
   "outputs": [
    {
     "name": "stdout",
     "output_type": "stream",
     "text": [
      "Regex\n"
     ]
    }
   ],
   "source": [
    "def getFirstWord(string):\n",
    "    return string.split()[0]\n",
    "print(getFirstWord(\"Regex Software Services\"))"
   ]
  },
  {
   "cell_type": "code",
   "execution_count": 15,
   "metadata": {},
   "outputs": [
    {
     "name": "stdout",
     "output_type": "stream",
     "text": [
      "['Divyansh', 'Regex', 'Indian', 'Data']\n"
     ]
    }
   ],
   "source": [
    "arr=['Divyansh Sengar','Regex Software Services','Indian Ocean','Data Structures']\n",
    "def getFirstWord(string):\n",
    "    return string.split()[0]\n",
    "result=map(getFirstWord,arr)\n",
    "print(list(result))"
   ]
  },
  {
   "cell_type": "code",
   "execution_count": null,
   "metadata": {},
   "outputs": [],
   "source": []
  }
 ],
 "metadata": {
  "kernelspec": {
   "display_name": "Python 3",
   "language": "python",
   "name": "python3"
  },
  "language_info": {
   "codemirror_mode": {
    "name": "ipython",
    "version": 3
   },
   "file_extension": ".py",
   "mimetype": "text/x-python",
   "name": "python",
   "nbconvert_exporter": "python",
   "pygments_lexer": "ipython3",
   "version": "3.8.6"
  }
 },
 "nbformat": 4,
 "nbformat_minor": 4
}
