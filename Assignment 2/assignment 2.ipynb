{
 "cells": [
  {
   "cell_type": "markdown",
   "metadata": {},
   "source": [
    "## TASK 2\n",
    "## Divyansh Singh Sengar\n",
    "## Assignment 2"
   ]
  },
  {
   "cell_type": "markdown",
   "metadata": {},
   "source": [
    "## 1"
   ]
  },
  {
   "cell_type": "code",
   "execution_count": 6,
   "metadata": {},
   "outputs": [
    {
     "name": "stdout",
     "output_type": "stream",
     "text": [
      "Divyansh\n"
     ]
    }
   ],
   "source": [
    "get_first_word = lambda string : string.split()[0]\n",
    "print(get_first_word(\"Divyansh Singh Sengar\"))  "
   ]
  },
  {
   "cell_type": "markdown",
   "metadata": {},
   "source": [
    "## 2"
   ]
  },
  {
   "cell_type": "code",
   "execution_count": 9,
   "metadata": {},
   "outputs": [
    {
     "name": "stdout",
     "output_type": "stream",
     "text": [
      "Regex\n"
     ]
    }
   ],
   "source": [
    "def getFirstWord(string):\n",
    "    return string.split()[0]\n",
    "print(getFirstWord(\"Regex Software Services\"))"
   ]
  },
  {
   "cell_type": "markdown",
   "metadata": {},
   "source": [
    "## 3"
   ]
  },
  {
   "cell_type": "code",
   "execution_count": 15,
   "metadata": {},
   "outputs": [
    {
     "name": "stdout",
     "output_type": "stream",
     "text": [
      "['Divyansh', 'Regex', 'Indian', 'Data']\n"
     ]
    }
   ],
   "source": [
    "arr=['Divyansh Sengar','Regex Software Services','Indian Ocean','Data Structures']\n",
    "def getFirstWord(string):\n",
    "    return string.split()[0]\n",
    "result=map(getFirstWord,arr)\n",
    "print(list(result))"
   ]
  },
  {
   "cell_type": "markdown",
   "metadata": {},
   "source": [
    "## 4"
   ]
  },
  {
   "cell_type": "code",
   "execution_count": 20,
   "metadata": {},
   "outputs": [
    {
     "name": "stdout",
     "output_type": "stream",
     "text": [
      "[2, 3, 31]\n"
     ]
    }
   ],
   "source": [
    "import math\n",
    "def primeFactors(n):\n",
    "    arr=[]\n",
    "    while n % 2 == 0:\n",
    "        arr.append(2)\n",
    "        n = n // 2\n",
    "    for i in range(3, int(math.sqrt(n))+1, 2):\n",
    "        while n % i == 0:\n",
    "            arr.append(i)\n",
    "            n = n // i\n",
    "    if n > 2:\n",
    "        arr.append(n)\n",
    "    return arr\n",
    "        \n",
    "print(primeFactors(186))\n"
   ]
  },
  {
   "cell_type": "markdown",
   "metadata": {},
   "source": [
    "## 5"
   ]
  },
  {
   "cell_type": "code",
   "execution_count": 10,
   "metadata": {},
   "outputs": [
    {
     "name": "stdout",
     "output_type": "stream",
     "text": [
      "23\n"
     ]
    }
   ],
   "source": [
    "def sec_largest(arr):\n",
    "    max_num=arr[0]\n",
    "    min_diff=0\n",
    "    for i in range(len(arr)):\n",
    "        if arr[i]>max_num:\n",
    "            max_num=arr[i]\n",
    "    for i in range(len(arr)):\n",
    "        if i==0:\n",
    "            diff=max_num-arr[i]\n",
    "            min_diff=diff\n",
    "        else:\n",
    "            diff=max_num-arr[i]\n",
    "            if diff<min_diff and diff!=0:\n",
    "                min_diff=diff\n",
    "                result=arr[i]\n",
    "    return result\n",
    "arr=[10,40,12,23]\n",
    "print(sec_largest(arr))"
   ]
  }
 ],
 "metadata": {
  "kernelspec": {
   "display_name": "Python 3",
   "language": "python",
   "name": "python3"
  },
  "language_info": {
   "codemirror_mode": {
    "name": "ipython",
    "version": 3
   },
   "file_extension": ".py",
   "mimetype": "text/x-python",
   "name": "python",
   "nbconvert_exporter": "python",
   "pygments_lexer": "ipython3",
   "version": "3.8.6"
  }
 },
 "nbformat": 4,
 "nbformat_minor": 4
}
