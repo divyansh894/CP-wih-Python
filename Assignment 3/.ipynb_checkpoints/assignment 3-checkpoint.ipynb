{
 "cells": [
  {
   "cell_type": "markdown",
   "metadata": {},
   "source": [
    "## TASK 3\n",
    "## Divyansh Sengar\n",
    "## Assignment 3"
   ]
  },
  {
   "cell_type": "markdown",
   "metadata": {},
   "source": [
    "## 1"
   ]
  },
  {
   "cell_type": "code",
   "execution_count": 17,
   "metadata": {},
   "outputs": [
    {
     "name": "stdout",
     "output_type": "stream",
     "text": [
      "34\n"
     ]
    }
   ],
   "source": [
    "def fib_num(n):\n",
    "    f_arr=[0,1]\n",
    "    if n==1:\n",
    "        return(0)\n",
    "    if n==2:\n",
    "        return(1)\n",
    "    for i in range(2,n+1):\n",
    "        result=f_arr[i-2]+f_arr[i-1]\n",
    "        f_arr.append(result)\n",
    "    return result\n",
    "print(fib_num(9))"
   ]
  },
  {
   "cell_type": "markdown",
   "metadata": {},
   "source": [
    "## 2"
   ]
  },
  {
   "cell_type": "code",
   "execution_count": 39,
   "metadata": {},
   "outputs": [
    {
     "name": "stdout",
     "output_type": "stream",
     "text": [
      "4\n"
     ]
    }
   ],
   "source": [
    "def GCD(n,m):\n",
    "    x=max(n,m)\n",
    "    num=x\n",
    "    while True:\n",
    "        if num%n==0 and num%m==0:\n",
    "            break\n",
    "        num=num+x\n",
    "    result=(n*m)//num\n",
    "    return result\n",
    "print(GCD(20,28))"
   ]
  },
  {
   "cell_type": "markdown",
   "metadata": {},
   "source": [
    "## 3"
   ]
  },
  {
   "cell_type": "code",
   "execution_count": 35,
   "metadata": {},
   "outputs": [
    {
     "name": "stdout",
     "output_type": "stream",
     "text": [
      "24\n"
     ]
    }
   ],
   "source": [
    "def LCM(n,m):\n",
    "    x=max(n,m)\n",
    "    num=x\n",
    "    while True:\n",
    "        if num%n==0 and num%m==0:\n",
    "            return num\n",
    "            break\n",
    "        num=num+x\n",
    "print(LCM(12,8))"
   ]
  },
  {
   "cell_type": "code",
   "execution_count": null,
   "metadata": {},
   "outputs": [],
   "source": []
  }
 ],
 "metadata": {
  "kernelspec": {
   "display_name": "Python 3",
   "language": "python",
   "name": "python3"
  },
  "language_info": {
   "codemirror_mode": {
    "name": "ipython",
    "version": 3
   },
   "file_extension": ".py",
   "mimetype": "text/x-python",
   "name": "python",
   "nbconvert_exporter": "python",
   "pygments_lexer": "ipython3",
   "version": "3.8.6"
  }
 },
 "nbformat": 4,
 "nbformat_minor": 4
}
