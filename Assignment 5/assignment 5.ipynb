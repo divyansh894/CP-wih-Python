{
 "cells": [
  {
   "cell_type": "markdown",
   "metadata": {},
   "source": [
    "## Divyansh Sengar\n",
    "## Task 5"
   ]
  },
  {
   "cell_type": "code",
   "execution_count": 71,
   "metadata": {},
   "outputs": [
    {
     "name": "stdout",
     "output_type": "stream",
     "text": [
      "30\n"
     ]
    }
   ],
   "source": [
    "def primeNumber(num):\n",
    "    if num==1 or num==0:\n",
    "        return False\n",
    "    flag=0\n",
    "    for i in range(2,num):\n",
    "        if num%i==0:\n",
    "            flag=1\n",
    "    if flag==1:\n",
    "        return False\n",
    "    else:\n",
    "        return True\n",
    "arr=[1,2,3,5,7,10,12,13]\n",
    "result=0\n",
    "for num in arr:\n",
    "    x=primeNumber(num)\n",
    "    if x is True:\n",
    "        result=result+num\n",
    "print(result)"
   ]
  },
  {
   "cell_type": "code",
   "execution_count": 39,
   "metadata": {},
   "outputs": [
    {
     "name": "stdout",
     "output_type": "stream",
     "text": [
      "Strictly Increasing\n"
     ]
    }
   ],
   "source": [
    "def strictIncreasing(arr):\n",
    "    flag=0\n",
    "    for i in range(1,len(arr)):\n",
    "        if arr[i-1]>arr[i]:\n",
    "            flag=1\n",
    "            break\n",
    "    if flag==1:\n",
    "        return ('Not Strictly increasing')\n",
    "    else:\n",
    "        return ('Strictly Increasing')\n",
    "arr=[1,2,3,4,5,6,7]\n",
    "print(strictIncreasing(arr))"
   ]
  },
  {
   "cell_type": "code",
   "execution_count": 57,
   "metadata": {},
   "outputs": [
    {
     "name": "stdout",
     "output_type": "stream",
     "text": [
      "Expanding\n"
     ]
    }
   ],
   "source": [
    "def isExpanding(arr):\n",
    "    diff=0\n",
    "    flag=0\n",
    "    prev_diff=0\n",
    "    for i in range(1,len(arr)-1):\n",
    "        diff=abs(arr[i+1]-arr[i])\n",
    "        if diff<=prev_diff:\n",
    "            flag=1\n",
    "            break\n",
    "        prev_diff=diff\n",
    "    if flag==1:\n",
    "        return('Not Expanding')\n",
    "    else:\n",
    "        return('Expanding')\n",
    "arr=[1,2,4,7,11,20,30,41,72,1]\n",
    "print(isExpanding(arr))"
   ]
  },
  {
   "cell_type": "code",
   "execution_count": 71,
   "metadata": {},
   "outputs": [
    {
     "name": "stdout",
     "output_type": "stream",
     "text": [
      "['a', 'b', 'c']\n",
      "['a', 'c', 'b']\n",
      "['b', 'a', 'c']\n",
      "['b', 'c', 'a']\n",
      "['c', 'b', 'a']\n",
      "['c', 'a', 'b']\n"
     ]
    }
   ],
   "source": [
    "def permutation(string,start=0,end=len(string)-1):\n",
    "    if start==end:\n",
    "        print(string)\n",
    "    for i in range(start,end+1):\n",
    "        string[start],string[i]=string[i],string[start]\n",
    "        permutation(string,start+1,end)\n",
    "        string[start],string[i]=string[i],string[start]\n",
    "string='abc'\n",
    "string=list(string)\n",
    "permutation(string)"
   ]
  },
  {
   "cell_type": "code",
   "execution_count": null,
   "metadata": {},
   "outputs": [],
   "source": []
  },
  {
   "cell_type": "code",
   "execution_count": null,
   "metadata": {},
   "outputs": [],
   "source": []
  }
 ],
 "metadata": {
  "kernelspec": {
   "display_name": "Python 3",
   "language": "python",
   "name": "python3"
  },
  "language_info": {
   "codemirror_mode": {
    "name": "ipython",
    "version": 3
   },
   "file_extension": ".py",
   "mimetype": "text/x-python",
   "name": "python",
   "nbconvert_exporter": "python",
   "pygments_lexer": "ipython3",
   "version": "3.8.6"
  }
 },
 "nbformat": 4,
 "nbformat_minor": 4
}
